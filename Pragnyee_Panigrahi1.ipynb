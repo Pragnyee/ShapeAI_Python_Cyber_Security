{
  "nbformat": 4,
  "nbformat_minor": 0,
  "metadata": {
    "colab": {
      "name": "Pragnyee_Panigrahi1.ipynb",
      "provenance": []
    },
    "kernelspec": {
      "name": "python3",
      "display_name": "Python 3"
    },
    "language_info": {
      "name": "python"
    }
  },
  "cells": [
    {
      "cell_type": "code",
      "metadata": {
        "colab": {
          "base_uri": "https://localhost:8080/"
        },
        "id": "EtEbLLSp-it9",
        "outputId": "b505a3f7-6f29-4eac-a167-6f002fe7529a"
      },
      "source": [
        "import requests\n",
        "\n",
        "#import os\n",
        "\n",
        "from datetime import datetime\n",
        "\n",
        "api_key= 'f278280641fa0303536550f2f9f8612c'\n",
        "\n",
        "location = input (\"Enter the city name: \")\n",
        "\n",
        "complete_api_link= \"https://api.openweathermap.org/data/2.5/weather?q=\"+location+\"&appid=\"+api_key\n",
        "\n",
        "api_link= requests.get (complete_api_link)\n",
        "api_data = api_link.json()\n",
        "\n",
        "#create variables to store and display data\n",
        "\n",
        "temp_city = ((api_data['main']['temp']) - 273.15)\n",
        "\n",
        "weather_desc = api_data['weather'][0]['description']\n",
        "\n",
        "hmdt = api_data['main']['humidity']\n",
        "\n",
        "wind_spd = api_data['wind']['speed']\n",
        "date_time = datetime.now().strftime (\"%d %b %Y %I: %M: %S %p\")\n",
        "\n",
        "print (\"------------------------------------------------------------\")\n",
        "\n",
        "print (\"Weather Stats for - {} || {}\".format(location.upper(), date_time))\n",
        "\n",
        "print (\"------------------------------------------------------------\")\n",
        "\n",
        "print (\"Current temperature is: {:.2f} deg C\". format (temp_city))\n",
        "\n",
        "print(\"Current weather desc :\",weather_desc)\n",
        "\n",
        "print (\"Current Humidity    :\", hmdt, '%')\n",
        "\n",
        "print (\"Current wind speed  :\",wind_spd, 'kmph')\n"
      ],
      "execution_count": 5,
      "outputs": [
        {
          "output_type": "stream",
          "text": [
            "Enter the city name: Mumbai\n",
            "------------------------------------------------------------\n",
            "Weather Stats for - MUMBAI || 28 Jul 2021 01: 55: 51 PM\n",
            "------------------------------------------------------------\n",
            "Current temperature is: 28.99 deg C\n",
            "Current weather desc : broken clouds\n",
            "Current Humidity    : 84 %\n",
            "Current wind speed  : 4.63 kmph\n"
          ],
          "name": "stdout"
        }
      ]
    }
  ]
}